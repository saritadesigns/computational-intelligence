{
 "cells": [
  {
   "cell_type": "markdown",
   "metadata": {},
   "source": [
    "## Introduction\n",
    "- Using SVM\n",
    "- Slack Parameters including error cost, C, can be changed (higher C --> less tolerance for misclassification; more accurate; less generalization)\n",
    "- Kernels can be changed: linear or nonlinear kernels, etc.\n",
    "- Used to classify Diabetes  \n",
    "- Display the effect of varying parameters with the Confusion Matrices "
   ]
  },
  {
   "cell_type": "code",
   "execution_count": null,
   "metadata": {},
   "outputs": [],
   "source": [
    "\n",
    "import numpy as np\n",
    "import pandas as pd\n",
    "import matplotlib.pyplot as plt\n",
    "\n",
    "from sklearn.model_selection import train_test_split\n",
    "from sklearn.model_selection import cross_val_score\n",
    "from sklearn.svm import SVC\n",
    "from sklearn.metrics import accuracy_score, confusion_matrix, classification_report, ConfusionMatrixDisplay\n",
    "from IPython import display\n",
    "import math\n"
   ]
  },
  {
   "cell_type": "code",
   "execution_count": null,
   "metadata": {},
   "outputs": [],
   "source": [
    "# read data from CSV into pd DataFrame\n",
    "# separate into input and output \n",
    "df = pd.read_csv('diabetes.csv')\n",
    "x = df.iloc[:,:-1].to_numpy()\n",
    "y = np.ravel(df.iloc[:,-1:].to_numpy())\n",
    "\n",
    "# normalize the input\n",
    "X_norm = (x - x.min(axis=0)) / (x.max(axis=0) - x.min(axis=0))\n",
    "\n",
    "# split into train/test with train_test_split() use the normalized input\n",
    "train_x, test_x, train_y, test_y = train_test_split(X_norm, y, test_size=0.20)\n",
    "\n",
    "# define class names (used in Conflusion Matrix later)\n",
    "class_names = ['Not Diabetic', 'Diabetic']\n",
    "\n",
    "# set up different SVM models\n",
    "# change slack parameters and kernels with `C` and `kernel`\n",
    "C_values = [0.01,1,10]\n",
    "kernel_values = ['linear','poly','sigmoid','rbf']\n",
    "cm_storage = []\n",
    "classification_storage = []\n",
    "\n",
    "for kernel in kernel_values:\n",
    "    for C in C_values:\n",
    "        # create SVM using SVC\n",
    "        svm_ = SVC(gamma='auto',C=C,kernel=kernel,probability=True)\n",
    "        svm_.fit(train_x, train_y)\n",
    "\n",
    "        # accuracy: compare y_svm and test_y\n",
    "#         y_svm = svm_.predict(test_x)\n",
    "        y_proba = svm_.predict_proba(test_x)\n",
    "        y_svm = np.argmax(y_proba,axis=1)\n",
    "        \n",
    "        acc_svm = accuracy_score(test_y,y_svm)\n",
    "        print(\"Slack: {}\".format(C))\n",
    "        print(\"Kernel: {}\".format(kernel))\n",
    "        print(\"SVM Accuracy: {}%\".format(acc_svm*100))\n",
    "\n",
    "        # Confusion Matrix\n",
    "        cm_svm = confusion_matrix(test_y, y_svm)\n",
    "        report = classification_report(test_y, y_svm, target_names=class_names)\n",
    "        cm_storage.append(cm_svm)\n",
    "        classification_storage.append(report)\n",
    "        print(cm_svm)\n",
    "        print(report)\n",
    "        print(\"*********************\")\n",
    "\n",
    "#         disp = ConfusionMatrixDisplay(confusion_matrix=cm_svm,display_labels=class_names)\n",
    "#         disp.plot()"
   ]
  },
  {
   "cell_type": "code",
   "execution_count": null,
   "metadata": {},
   "outputs": [],
   "source": [
    "print(classification_storage[0])\n",
    "for i in range(12):\n",
    "    print(classification_storage[i])\n",
    "    disp = ConfusionMatrixDisplay(confusion_matrix=cm_storage[i],display_labels=class_names)\n",
    "    disp.plot()"
   ]
  },
  {
   "cell_type": "code",
   "execution_count": null,
   "metadata": {},
   "outputs": [],
   "source": []
  },
  {
   "cell_type": "code",
   "execution_count": null,
   "metadata": {},
   "outputs": [],
   "source": []
  },
  {
   "cell_type": "code",
   "execution_count": null,
   "metadata": {},
   "outputs": [],
   "source": []
  }
 ],
 "metadata": {
  "kernelspec": {
   "display_name": "Python 3",
   "language": "python",
   "name": "python3"
  },
  "language_info": {
   "codemirror_mode": {
    "name": "ipython",
    "version": 3
   },
   "file_extension": ".py",
   "mimetype": "text/x-python",
   "name": "python",
   "nbconvert_exporter": "python",
   "pygments_lexer": "ipython3",
   "version": "3.8.5"
  }
 },
 "nbformat": 4,
 "nbformat_minor": 4
}
