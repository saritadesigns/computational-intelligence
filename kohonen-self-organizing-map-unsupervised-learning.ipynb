{
 "cells": [
  {
   "cell_type": "markdown",
   "metadata": {},
   "source": [
    "## Introduction: Unsupervised Learning with KSOM\n",
    "\n",
    "Learning rate: $\\alpha (k) = \\alpha (0) exp(\\frac{-k}{T})$ learning rate\n",
    "<br> Initial learning rate: $\\alpha (0) = 0.8$\n",
    "<br> Epochs: $T=600$, but generate a figure for $T=\\{20,40,100,600\\}$\n",
    "<br> \n",
    "<br> Weight update: $w_{ij}^{new} = w_{ij}^{old} + \\alpha(k)*N_{ij}(k)*(x-w_{ij}^{old})$\n",
    "<br> $N_{ij}(k)=exp(-\\frac{d_{ij}^2}{2\\sigma^2(k)})$\n",
    "<br> $d_{ij}$ is the Euclidean distance between winning node *i* and surrounding node *j*\n",
    "<br> $\\sigma (k) = \\sigma(0) exp(\\frac{-k}{T})$\n",
    "<br> $\\sigma(0) = \\{10,40,70\\}$"
   ]
  },
  {
   "cell_type": "code",
   "execution_count": null,
   "metadata": {},
   "outputs": [],
   "source": [
    "inputRGB = np.array([\n",
    "[255,0,0],\n",
    "[0,255,0],\n",
    "[0,0,255],\n",
    "[255,255,0],\n",
    "[255,0,255],\n",
    "[0,255,255],\n",
    "[128,128,0],\n",
    "[128,0,128],\n",
    "[0,128,128],\n",
    "[255,128,0],\n",
    "[255,0,128],\n",
    "[128,255,0],\n",
    "[0,255,128],\n",
    "[128,0,255],\n",
    "[0,128,255],\n",
    "[255,20,147],\n",
    "[220,20,60],\n",
    "[255,51,51],\n",
    "[255,153,51],\n",
    "[255,255,51],\n",
    "[51,255,51],\n",
    "[153,255,51],\n",
    "[51,255,153],\n",
    "[51,255,255]])\n",
    "\n",
    "# Normalize the input (min-max normalize, but we already know the minimum and maximum)\n",
    "normRGB = inputRGB/255\n",
    "\n",
    "plt.imshow(np.reshape(normRGB,(normRGB.shape[0],1,3)))\n",
    "print(normRGB.shape)"
   ]
  },
  {
   "cell_type": "code",
   "execution_count": null,
   "metadata": {},
   "outputs": [],
   "source": [
    "# Initialize the system\n",
    "space_size = 100 # 100 x 100 grid of neurons\n",
    "alpha_0 = 0.8\n",
    "sigma_0 = 70\n",
    "Nc_0 = 20\n",
    "max_epochs = 600\n",
    "\n",
    "# Initialize random weights\n",
    "w = np.random.random((space_size,space_size,3))\n",
    "plt.imshow(w)"
   ]
  },
  {
   "cell_type": "code",
   "execution_count": null,
   "metadata": {},
   "outputs": [],
   "source": [
    "epoch = 0\n",
    "alpha = alpha_0\n",
    "sigma = sigma_0\n",
    "Nc = Nc_0\n",
    "while epoch <= max_epochs:\n",
    "    \n",
    "    for x in normRGB:\n",
    "        # calculate performance index\n",
    "        diff = np.linalg.norm(x - w, axis=2)\n",
    "        # find index of winning node\n",
    "        ind = np.unravel_index(np.argmin(diff, axis=None), diff.shape)\n",
    "        \n",
    "        # Update alpha, sigma\n",
    "        if epoch !=0:\n",
    "            alpha = alpha_0*math.exp(-epoch/max_epochs)\n",
    "            sigma = sigma_0*math.exp(-epoch/max_epochs)\n",
    "        \n",
    "        # Update all nodes\n",
    "        for i in range(space_size):\n",
    "            for j in range(space_size):\n",
    "                # calculate distance between node and winner\n",
    "                node = np.array((i,j))\n",
    "                winner = np.array((ind[0],ind[1]))\n",
    "                d = np.linalg.norm(node-winner)\n",
    "\n",
    "                N = math.exp(-(d**2)/(2*sigma**2))\n",
    "                w[i][j] += alpha*N*(x-w[i][j])\n",
    "            \n",
    "    plot_ind = [20,40,100,600]\n",
    "    if epoch in plot_ind:\n",
    "        print(\"Epoch Number: {}\".format(epoch))\n",
    "        plt.imshow(w)\n",
    "        display.display(plt.gcf())\n",
    "    \n",
    "    \n",
    "    epoch += 1"
   ]
  },
  {
   "cell_type": "code",
   "execution_count": null,
   "metadata": {},
   "outputs": [],
   "source": []
  },
  {
   "cell_type": "code",
   "execution_count": null,
   "metadata": {},
   "outputs": [],
   "source": []
  },
  {
   "cell_type": "code",
   "execution_count": null,
   "metadata": {},
   "outputs": [],
   "source": []
  }
 ],
 "metadata": {
  "kernelspec": {
   "display_name": "Python 3",
   "language": "python",
   "name": "python3"
  },
  "language_info": {
   "codemirror_mode": {
    "name": "ipython",
    "version": 3
   },
   "file_extension": ".py",
   "mimetype": "text/x-python",
   "name": "python",
   "nbconvert_exporter": "python",
   "pygments_lexer": "ipython3",
   "version": "3.8.5"
  }
 },
 "nbformat": 4,
 "nbformat_minor": 4
}
