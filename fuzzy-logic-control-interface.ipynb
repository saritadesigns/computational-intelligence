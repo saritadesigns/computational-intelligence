{
 "cells": [
  {
   "cell_type": "markdown",
   "metadata": {},
   "source": [
    "### Introduction\n",
    "This code looks at a fuzzy logic control interface for three inputs (Angle, Velocity, and Current). The membership functions for each input are defined and then the simulation is created to defuzzify the output given an input."
   ]
  },
  {
   "cell_type": "code",
   "execution_count": null,
   "metadata": {},
   "outputs": [],
   "source": [
    "import numpy as np\n",
    "import matplotlib.pyplot as plt\n",
    "import math\n",
    "import skfuzzy\n",
    "from skfuzzy import control as ctrl\n",
    "from skfuzzy import defuzzify"
   ]
  },
  {
   "cell_type": "code",
   "execution_count": null,
   "metadata": {},
   "outputs": [],
   "source": [
    "n = 0.01\n",
    "S_ang = np.arange(-30,30+n,n) #support set: angle\n",
    "S_vel = np.arange(-60,60+n,n) #support set: velocity\n",
    "S_cur = np.arange(-3,3+n,n) #support set: current\n",
    "\n",
    "ang = ctrl.Antecedent(S_ang, 'ang')\n",
    "vel = ctrl.Antecedent(S_vel, 'vel')\n",
    "cnt = ctrl.Consequent(S_cur, 'cnt')\n"
   ]
  },
  {
   "cell_type": "code",
   "execution_count": null,
   "metadata": {},
   "outputs": [],
   "source": [
    "#Angle\n",
    "mu_a_pl = skfuzzy.trapmf(S_ang,[-10,20,30+n,30+n])\n",
    "mu_a_nl = skfuzzy.trapmf(S_ang,[-30,-30,-20,10])\n",
    "\n",
    "plt.plot(S_ang,mu_a_pl,label=\"Positive Large\")\n",
    "plt.plot(S_ang,mu_a_nl,label=\"Negative Large\")\n",
    "plt.title(\"Membership - Anglular Position\")\n",
    "plt.legend()\n",
    "plt.show()\n",
    "\n",
    "# Doing it with skfuzzy: \n",
    "ang['PL'] = skfuzzy.trapmf(S_ang,[-10,20,30+n,30+n])\n",
    "ang['NL'] = skfuzzy.trapmf(S_ang,[-30,-30,-20,10])\n",
    "# ang.view()"
   ]
  },
  {
   "cell_type": "code",
   "execution_count": null,
   "metadata": {},
   "outputs": [],
   "source": [
    "#Velcoity\n",
    "mu_v_pl = skfuzzy.trapmf(S_vel,[-20,40,60,60])\n",
    "mu_v_nl = skfuzzy.trapmf(S_vel,[-60,-60,-40,20])\n",
    "\n",
    "plt.plot(S_vel,mu_v_pl, label=\"Positive Large\")\n",
    "plt.plot(S_vel,mu_v_nl, label=\"Negative Large\")\n",
    "plt.title(\"Membership - Anglular Velocity\")\n",
    "plt.legend()\n",
    "plt.show()\n",
    "\n",
    "#Doing it with skfuzzy\n",
    "vel['PL'] = skfuzzy.trapmf(S_vel,[-20,40,60,60])\n",
    "vel['NL'] = skfuzzy.trapmf(S_vel,[-60,-60,-40,20])\n",
    "# vel.view()"
   ]
  },
  {
   "cell_type": "code",
   "execution_count": null,
   "metadata": {},
   "outputs": [],
   "source": [
    "#Current- Control Action\n",
    "mu_c_pl = skfuzzy.trapmf(S_cur,[0,2,3,3])\n",
    "mu_c_nc = skfuzzy.trimf(S_cur,[-2,0,2])\n",
    "mu_c_nl = skfuzzy.trapmf(S_cur,[-3,-3,-2,0])\n",
    "\n",
    "plt.plot(S_cur,mu_c_pl,label=\"Positive Large\")\n",
    "plt.plot(S_cur,mu_c_nc,label=\"No change\")\n",
    "plt.plot(S_cur,mu_c_nl,label=\"Negative Large\")\n",
    "plt.title(\"Membership - Control Inference\")\n",
    "plt.legend()\n",
    "plt.show()\n",
    "\n",
    "#Doing it with skfuzzy\n",
    "cnt['PL'] = skfuzzy.trapmf(S_cur,[0,2,3,3])\n",
    "cnt['NC'] = skfuzzy.trimf(S_cur,[-2,0,2])\n",
    "cnt['NL'] = skfuzzy.trapmf(S_cur,[-3,-3,-2,0])\n",
    "# cnt.view()"
   ]
  },
  {
   "cell_type": "markdown",
   "metadata": {},
   "source": [
    "### Fuzzy Logic Rules\n",
    "For the simulation, these rules are defined. Then, an input is given (Angle, Velocity) ad the Current is inferred."
   ]
  },
  {
   "cell_type": "code",
   "execution_count": null,
   "metadata": {},
   "outputs": [],
   "source": [
    "rule1 = ctrl.Rule(ang['PL'] & vel['PL'], cnt['NL'])\n",
    "rule2 = ctrl.Rule(ang['PL'] & vel['NL'], cnt['NC'])\n",
    "rule3 = ctrl.Rule(ang['NL'] & vel['PL'], cnt['NC'])\n",
    "rule4 = ctrl.Rule(ang['NL'] & vel['NL'], cnt['PL'])\n",
    "\n",
    "rules = [rule1,rule2,rule3,rule4]\n",
    "system = ctrl.ControlSystem(rules)\n",
    "simulation = ctrl.ControlSystemSimulation(system)\n",
    "\n",
    "#Angle=5, Velocity=15\n",
    "simulation.input['ang']=5\n",
    "simulation.input['vel']=15\n",
    "simulation.compute()\n",
    "simulation.output['cnt']"
   ]
  },
  {
   "cell_type": "code",
   "execution_count": null,
   "metadata": {},
   "outputs": [],
   "source": []
  },
  {
   "cell_type": "code",
   "execution_count": null,
   "metadata": {},
   "outputs": [],
   "source": []
  },
  {
   "cell_type": "code",
   "execution_count": null,
   "metadata": {},
   "outputs": [],
   "source": []
  }
 ],
 "metadata": {
  "kernelspec": {
   "display_name": "Python 3",
   "language": "python",
   "name": "python3"
  },
  "language_info": {
   "codemirror_mode": {
    "name": "ipython",
    "version": 3
   },
   "file_extension": ".py",
   "mimetype": "text/x-python",
   "name": "python",
   "nbconvert_exporter": "python",
   "pygments_lexer": "ipython3",
   "version": "3.8.5"
  }
 },
 "nbformat": 4,
 "nbformat_minor": 4
}
